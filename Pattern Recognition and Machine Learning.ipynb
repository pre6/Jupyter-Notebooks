{
 "cells": [
  {
   "cell_type": "markdown",
   "id": "6928f037",
   "metadata": {},
   "source": [
    "# Pattern Recognition and Machine Learning\n",
    "\n",
    "\n",
    "<div style=\"text-align: right\"> Christopher Bishop  </div>\n",
    "\n",
    "I will be coding various things as I go through his textbook\n",
    "\n",
    "***\n",
    "\n",
    "<h1><center>1.1 Polynomial Curve Fitting</center></h1>"
   ]
  },
  {
   "cell_type": "markdown",
   "id": "9dea4c28",
   "metadata": {},
   "source": [
    "### Simple regression problem:\n",
    "\n",
    "- real valued input variable $x$ \n",
    "- want to predit the real valued output variable $t$\n",
    "- The data is generated from the function $sin(2 \\pi x)$ with random noise (Gaussian)\n",
    "- training set comprized of $N$ obervations of $x$ and the corresponding obervation values $t$\n",
    "- we are assuming they have an underlying regularity (the function)\n",
    "- goal to exploit the training set in order to make predictions of the value $t$\n",
    "- we will try to fit the data using a polynomial like this:\n",
    "\n",
    "$$y(x,w) = w_{0}+w_{1}x+w{2}x^{2}+...+w_{M}x^{M} = \\frac{1}{2}\\sum_{n=1}^{N} {(y(x^{n},w)-t_{n})}^2$$\n"
   ]
  },
  {
   "cell_type": "markdown",
   "id": "d0b388ae",
   "metadata": {},
   "source": [
    "### Produce N training Examples:"
   ]
  },
  {
   "cell_type": "code",
   "execution_count": 1,
   "id": "186e926d",
   "metadata": {},
   "outputs": [],
   "source": [
    "from PIL import Image                       # To open, crop and change images\n",
    "import matplotlib.pyplot as plt             # To plot the image\n",
    "import math                                 # To perform mathematical operations\n",
    "import numpy as np                          # To create and manipulate arrays\n",
    "from numpy import asarray                   # To convert an image to an numpy array\n",
    "import random"
   ]
  },
  {
   "cell_type": "code",
   "execution_count": 114,
   "id": "fb2c2dcf",
   "metadata": {},
   "outputs": [],
   "source": [
    "def produce_training_example(N):\n",
    "    plot = np.zeros((N,2))\n",
    "    x = []\n",
    "    y = []\n",
    "    for i in range(N):\n",
    "        x_value = random.random()\n",
    "        y_value = math.sin(x_value*2*math.pi)\n",
    "        y_value = y_value + np.random.normal(0, 0.1)\n",
    "        x.append(x_value)\n",
    "        y.append(y_value)\n",
    "        \n",
    "    plt.scatter(x,y)\n",
    "    x_1 = np.arange(0,1,0.0001)   # start,stop,step\n",
    "    y_1 = np.sin(2*x_1*math.pi)\n",
    "\n",
    "    plt.plot(x_1,y_1)\n",
    "    plt.show()\n",
    "    return [[x,y],[x_1,y_1]]\n",
    "    "
   ]
  },
  {
   "cell_type": "code",
   "execution_count": 115,
   "id": "76d432da",
   "metadata": {},
   "outputs": [
    {
     "data": {
      "image/png": "[encoded data removed]",
      "text/plain": [
       "<Figure size 432x288 with 1 Axes>"
      ]
     },
     "metadata": {
      "needs_background": "light"
     },
     "output_type": "display_data"
    }
   ],
   "source": [
    "example = produce_training_example(50)\n",
    "\n"
   ]
  },
  {
   "cell_type": "code",
   "execution_count": null,
   "id": "edfee6cd",
   "metadata": {},
   "outputs": [],
   "source": []
  },
  {
   "cell_type": "code",
   "execution_count": null,
   "id": "52f36ea2",
   "metadata": {},
   "outputs": [],
   "source": []
  }
 ],
 "metadata": {
  "kernelspec": {
   "display_name": "Python 3 (ipykernel)",
   "language": "python",
   "name": "python3"
  },
  "language_info": {
   "codemirror_mode": {
    "name": "ipython",
    "version": 3
   },
   "file_extension": ".py",
   "mimetype": "text/x-python",
   "name": "python",
   "nbconvert_exporter": "python",
   "pygments_lexer": "ipython3",
   "version": "3.9.12"
  }
 },
 "nbformat": 4,
 "nbformat_minor": 5
}
